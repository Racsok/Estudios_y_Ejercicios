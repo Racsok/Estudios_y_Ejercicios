{
 "cells": [
  {
   "cell_type": "code",
   "execution_count": 1,
   "id": "fe24b92e-961a-480e-b3a4-40fc4a40eb99",
   "metadata": {
    "tags": []
   },
   "outputs": [],
   "source": [
    "import pyarrow.parquet as pq\n",
    "import pyarrow as pa\n",
    "import numpy as np\n",
    "import pandas as pd"
   ]
  },
  {
   "cell_type": "code",
   "execution_count": null,
   "id": "936afbf2-0d28-423b-a507-fed239fcf0de",
   "metadata": {
    "tags": []
   },
   "outputs": [],
   "source": [
    "yellow_tripdata_2025_1 = pq.read_table('yellow_tripdata_2025-01.parquet')\n",
    "yellow_tripdata_2009_1 = pq.read_table('yellow_tripdata_2009-01.parquet')\n",
    "yellow_tripdata_2013_1 = pq.read_table('yellow_tripdata_2013-01.parquet')\n",
    "yellow_tripdata_2019_1 = pq.read_table('yellow_tripdata_2019-01.parquet')"
   ]
  },
  {
   "cell_type": "code",
   "execution_count": null,
   "id": "5efbcec9-0b17-4876-9ac3-ff699c0b18fc",
   "metadata": {},
   "outputs": [],
   "source": []
  }
 ],
 "metadata": {
  "kernelspec": {
   "display_name": "Python 3 (ipykernel)",
   "language": "python",
   "name": "python3"
  },
  "language_info": {
   "codemirror_mode": {
    "name": "ipython",
    "version": 3
   },
   "file_extension": ".py",
   "mimetype": "text/x-python",
   "name": "python",
   "nbconvert_exporter": "python",
   "pygments_lexer": "ipython3",
   "version": "3.11.5"
  }
 },
 "nbformat": 4,
 "nbformat_minor": 5
}
