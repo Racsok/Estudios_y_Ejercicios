{
 "cells": [
  {
   "cell_type": "code",
   "execution_count": 34,
   "id": "0dd8b10f-7ae5-4484-809c-50b386a5ccf5",
   "metadata": {
    "tags": []
   },
   "outputs": [],
   "source": [
    "import import_ipynb\n",
    "from ingestion import Data_ingestion\n",
    "import pandas as pd\n",
    "import numpy as np\n",
    "import seaborn\n",
    "import matplotlib.pyplot as plt\n",
    "import warnings\n",
    "from math import sqrt, floor"
   ]
  },
  {
   "cell_type": "code",
   "execution_count": 23,
   "id": "b7a633af-2b33-423d-a391-789877094745",
   "metadata": {
    "tags": []
   },
   "outputs": [],
   "source": [
    "warnings.filterwarnings(\"ignore\")\n",
    "class Feature:\n",
    "    def __init__(self):\n",
    "        pass\n",
    "    \n",
    "    def base_stats(self):\n",
    "        ingestion = Data_ingestion()\n",
    "        data = ingestion.get_data()[0]\n",
    "        data = data[[\"Pokemon\", \"Attack\", \"Defense\", \"Stamina\"]]\n",
    "        return data"
   ]
  },
  {
   "cell_type": "code",
   "execution_count": 24,
   "id": "6df6a008-c414-4d34-918d-1dcb0e5e7d12",
   "metadata": {
    "tags": []
   },
   "outputs": [],
   "source": [
    "feature = Feature()\n",
    "data = feature.base_stats()"
   ]
  },
  {
   "cell_type": "code",
   "execution_count": 30,
   "id": "00c51bcf-fa6a-430a-a31d-6d75c971bf73",
   "metadata": {
    "tags": []
   },
   "outputs": [],
   "source": [
    "bulbasur = data[(data.Attack == 118) & (data.Defense == 111 )]\n",
    "bulbasur[\"IVDefense\"] = "
   ]
  },
  {
   "cell_type": "code",
   "execution_count": 25,
   "id": "a9c8896f-090e-40e8-bf0c-b20ed56133db",
   "metadata": {
    "tags": []
   },
   "outputs": [],
   "source": [
    "nivel_PCM = \n",
    "{\n",
    "\"1\":0.094,\t\"2\":0.16639787,\t\n",
    "\"3\":0.21573247,\t\"4\":0.25572005,\n",
    "\"5\":0.29024988,\t\"6\"\t:0.3210876,\n",
    "\"7\":0.34921268,\t\"8\":0.3752356,\n",
    "\"9\":0.39956728,\t\"10\":0.4225,\n",
    "\"11\":0.44310755, \"12\":0.4627984,\n",
    "\"13\":0.48168495, \"14\":0.49985844,\n",
    "\"15\":0.51739395, \"16\":0.5343543,\n",
    "\"17\":0.5507927, \"18\":0.5667545,\n",
    "\"19\":0.5822789, \"20\":0.5974,\n",
    "\"21\":0.6121573, \"22\":0.6265671,\n",
    "\"23\":0.64065295, \"24\":0.65443563,\n",
    "\"25\":0.667934, \"26\":0.6811649,\n",
    "\"27\":0.69414365, \"28\":0.7068842,\n",
    "\"29\":0.7193991, \"30\":0.7317,\n",
    "}"
   ]
  },
  {
   "cell_type": "code",
   "execution_count": 40,
   "id": "d6bf2a97-7a60-43be-961d-243ca2d39964",
   "metadata": {
    "tags": []
   },
   "outputs": [],
   "source": [
    "def calcularPC(A, D, P, IVA, IVD, IVP, PCM,):\n",
    "    return floor(((A+IVA)*(sqrt(D+IVD))*(sqrt(P+IVP)*PCM**2))/10)"
   ]
  },
  {
   "cell_type": "code",
   "execution_count": 39,
   "id": "c9ee9e45-9941-445c-967d-9e52106a5876",
   "metadata": {
    "tags": []
   },
   "outputs": [
    {
     "name": "stdout",
     "output_type": "stream",
     "text": [
      "12\n",
      "13\n",
      "14\n"
     ]
    }
   ],
   "source": [
    "for IVA in range(3):\n",
    "    for IVD in range(3):\n",
    "        for IVP in range(3):\n",
    "            for LVL in range(3):\n",
    "                "
   ]
  },
  {
   "cell_type": "code",
   "execution_count": null,
   "id": "d39d6989-b025-4c58-9195-a49ca1f18b8e",
   "metadata": {},
   "outputs": [],
   "source": []
  }
 ],
 "metadata": {
  "kernelspec": {
   "display_name": "Python 3 (ipykernel)",
   "language": "python",
   "name": "python3"
  },
  "language_info": {
   "codemirror_mode": {
    "name": "ipython",
    "version": 3
   },
   "file_extension": ".py",
   "mimetype": "text/x-python",
   "name": "python",
   "nbconvert_exporter": "python",
   "pygments_lexer": "ipython3",
   "version": "3.11.5"
  }
 },
 "nbformat": 4,
 "nbformat_minor": 5
}
