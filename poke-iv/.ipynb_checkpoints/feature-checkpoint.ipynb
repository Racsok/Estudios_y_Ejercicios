{
 "cells": [
  {
   "cell_type": "code",
   "execution_count": 3,
   "id": "0dd8b10f-7ae5-4484-809c-50b386a5ccf5",
   "metadata": {
    "tags": []
   },
   "outputs": [],
   "source": [
    "import import_ipynb\n",
    "from ingestion import Data_ingestion\n",
    "import pandas as pd\n",
    "import numpy as np\n",
    "import seaborn\n",
    "import matplotlib.pyplot as plt\n",
    "import warnings"
   ]
  },
  {
   "cell_type": "code",
   "execution_count": 23,
   "id": "b7a633af-2b33-423d-a391-789877094745",
   "metadata": {
    "tags": []
   },
   "outputs": [],
   "source": [
    "warnings.filterwarnings(\"ignore\")\n",
    "class Feature:\n",
    "    def __init__(self):\n",
    "        pass\n",
    "    \n",
    "    def base_stats(self):\n",
    "        ingestion = Data_ingestion()\n",
    "        data = ingestion.get_data()[0]\n",
    "        data = data[[\"Pokemon\", \"Attack\", \"Defense\", \"Stamina\"]]\n",
    "        return data"
   ]
  },
  {
   "cell_type": "code",
   "execution_count": 24,
   "id": "6df6a008-c414-4d34-918d-1dcb0e5e7d12",
   "metadata": {
    "tags": []
   },
   "outputs": [],
   "source": [
    "feature = Feature()\n",
    "data = feature.base_stats()"
   ]
  },
  {
   "cell_type": "code",
   "execution_count": null,
   "id": "a9c8896f-090e-40e8-bf0c-b20ed56133db",
   "metadata": {},
   "outputs": [],
   "source": [
    "nivel_PCM = {\n",
    "\"1\":0.094,\t\"2\":0.16639787,\t\n",
    "\"3\":0.21573247,\t\"4\":0.25572005,\n",
    "\"5\":0.29024988,\t\"6\"\t:0.3210876,\n",
    "\"7\":0.34921268,\t\"8\":0.3752356,\n",
    "\"9\":0.39956728,\t\"10\":0.4225,\n",
    "\"11\":0.44310755, \"12\":0.4627984,\n",
    "\"13\":0.48168495, \"14\":0.49985844,\n",
    "\"15\":0.51739395, \"16\":0.5343543,\n",
    "\"17\":0.5507927, \"18\":0.5667545,\n",
    "\"19\":0.5822789, \"20\":0.5974,\n",
    "\"21\":0.6121573, \"22\":0.6265671,\n",
    "\"23\":0.64065295, \"24\":0.65443563,\n",
    "\"25\":0.667934, \"26\":0.6811649,\n",
    "\"27\":0.69414365, \"28\":0.7068842,\n",
    "\"29\":0.7193991, \"30\":0.7317,\n",
    "\"31\":0.7377695, \"32\":0.74378943,\n",
    "\"33\":0.74976104, \"34\":0.7556855,\n",
    "\"35\":0.76156384, \"36\":0.76739717,\t\n",
    "\"37\":0.7731865, \"38\":0.77893275,\n",
    "\"39\":0.784637, \"40\":0.7903,\n",
    "\"41\":0.7953, \"42\":0.8003,\n",
    "\"43\":0.8053, \"44\":0.8103,\n",
    "\"45\":0.8153, \"46\":0.8203,\n",
    "\"47\":0.8253, \"48\":0.8303,\n",
    "\"49\":0.8353, \"50\":0.8403,\n",
    "\"51\":0.8453}"
   ]
  },
  {
   "cell_type": "code",
   "execution_count": null,
   "id": "d6bf2a97-7a60-43be-961d-243ca2d39964",
   "metadata": {},
   "outputs": [],
   "source": []
  }
 ],
 "metadata": {
  "kernelspec": {
   "display_name": "Python 3 (ipykernel)",
   "language": "python",
   "name": "python3"
  },
  "language_info": {
   "codemirror_mode": {
    "name": "ipython",
    "version": 3
   },
   "file_extension": ".py",
   "mimetype": "text/x-python",
   "name": "python",
   "nbconvert_exporter": "python",
   "pygments_lexer": "ipython3",
   "version": "3.11.5"
  }
 },
 "nbformat": 4,
 "nbformat_minor": 5
}
