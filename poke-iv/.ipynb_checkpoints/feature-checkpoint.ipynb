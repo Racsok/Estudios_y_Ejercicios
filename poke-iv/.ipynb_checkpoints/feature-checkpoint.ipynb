{
 "cells": [
  {
   "cell_type": "code",
   "execution_count": 42,
   "id": "0dd8b10f-7ae5-4484-809c-50b386a5ccf5",
   "metadata": {
    "tags": []
   },
   "outputs": [],
   "source": [
    "import import_ipynb\n",
    "from ingestion import Data_ingestion\n",
    "import pandas as pd\n",
    "import numpy as np\n",
    "import seaborn\n",
    "import matplotlib.pyplot as plt\n",
    "import warnings\n",
    "from math import sqrt, floor\n",
    "import random as rd"
   ]
  },
  {
   "cell_type": "code",
   "execution_count": 43,
   "id": "b7a633af-2b33-423d-a391-789877094745",
   "metadata": {
    "tags": []
   },
   "outputs": [],
   "source": [
    "warnings.filterwarnings(\"ignore\")\n",
    "class Feature:\n",
    "    def __init__(self):\n",
    "        pass\n",
    "    \n",
    "    def base_stats(self):\n",
    "        ingestion = Data_ingestion()\n",
    "        ingestion.get_data()\n",
    "        data, pokemon_dict = ingestion.self.data\n",
    "        data = data[[\"Pokemon\", \"Attack\", \"Defense\", \"Stamina\"]]\n",
    "        return [data, pokemon_dict]"
   ]
  },
  {
   "cell_type": "code",
   "execution_count": 44,
   "id": "6df6a008-c414-4d34-918d-1dcb0e5e7d12",
   "metadata": {
    "tags": []
   },
   "outputs": [
    {
     "name": "stdout",
     "output_type": "stream",
     "text": [
      "\n",
      "[]\n",
      "\n"
     ]
    },
    {
     "ename": "ValueError",
     "evalue": "not enough values to unpack (expected 2, got 0)",
     "output_type": "error",
     "traceback": [
      "\u001b[0;31m---------------------------------------------------------------------------\u001b[0m",
      "\u001b[0;31mValueError\u001b[0m                                Traceback (most recent call last)",
      "Cell \u001b[0;32mIn[44], line 2\u001b[0m\n\u001b[1;32m      1\u001b[0m feature \u001b[38;5;241m=\u001b[39m Feature()\n\u001b[0;32m----> 2\u001b[0m data, pokemon_dict \u001b[38;5;241m=\u001b[39m feature\u001b[38;5;241m.\u001b[39mbase_stats()\n\u001b[1;32m      3\u001b[0m pokemon_dict\n",
      "Cell \u001b[0;32mIn[43], line 9\u001b[0m, in \u001b[0;36mFeature.base_stats\u001b[0;34m(self)\u001b[0m\n\u001b[1;32m      7\u001b[0m ingestion \u001b[38;5;241m=\u001b[39m Data_ingestion()\n\u001b[1;32m      8\u001b[0m \u001b[38;5;28mprint\u001b[39m(ingestion\u001b[38;5;241m.\u001b[39mget_data())\n\u001b[0;32m----> 9\u001b[0m data, pokemon_dict \u001b[38;5;241m=\u001b[39m ingestion\u001b[38;5;241m.\u001b[39mget_data()\n\u001b[1;32m     10\u001b[0m data \u001b[38;5;241m=\u001b[39m data[[\u001b[38;5;124m\"\u001b[39m\u001b[38;5;124mPokemon\u001b[39m\u001b[38;5;124m\"\u001b[39m, \u001b[38;5;124m\"\u001b[39m\u001b[38;5;124mAttack\u001b[39m\u001b[38;5;124m\"\u001b[39m, \u001b[38;5;124m\"\u001b[39m\u001b[38;5;124mDefense\u001b[39m\u001b[38;5;124m\"\u001b[39m, \u001b[38;5;124m\"\u001b[39m\u001b[38;5;124mStamina\u001b[39m\u001b[38;5;124m\"\u001b[39m]]\n\u001b[1;32m     11\u001b[0m \u001b[38;5;28;01mreturn\u001b[39;00m [data, pokemon_dict]\n",
      "\u001b[0;31mValueError\u001b[0m: not enough values to unpack (expected 2, got 0)"
     ]
    }
   ],
   "source": [
    "feature = Feature()\n",
    "data, pokemon_dict = feature.base_stats()\n",
    "pokemon_dict"
   ]
  },
  {
   "cell_type": "code",
   "execution_count": 4,
   "id": "a9c8896f-090e-40e8-bf0c-b20ed56133db",
   "metadata": {
    "tags": []
   },
   "outputs": [],
   "source": [
    "nivel_PCM = {\n",
    "\"1\":0.094,\t\"2\":0.16639787,\t\n",
    "\"3\":0.21573247,\t\"4\":0.25572005,\n",
    "\"5\":0.29024988,\t\"6\"\t:0.3210876,\n",
    "\"7\":0.34921268,\t\"8\":0.3752356,\n",
    "\"9\":0.39956728,\t\"10\":0.4225,\n",
    "\"11\":0.44310755, \"12\":0.4627984,\n",
    "\"13\":0.48168495, \"14\":0.49985844,\n",
    "\"15\":0.51739395, \"16\":0.5343543,\n",
    "\"17\":0.5507927, \"18\":0.5667545,\n",
    "\"19\":0.5822789, \"20\":0.5974,\n",
    "\"21\":0.6121573, \"22\":0.6265671,\n",
    "\"23\":0.64065295, \"24\":0.65443563,\n",
    "\"25\":0.667934, \"26\":0.6811649,\n",
    "\"27\":0.69414365, \"28\":0.7068842,\n",
    "\"29\":0.7193991, \"30\":0.7317,\n",
    "}"
   ]
  },
  {
   "cell_type": "code",
   "execution_count": 5,
   "id": "d6bf2a97-7a60-43be-961d-243ca2d39964",
   "metadata": {
    "tags": []
   },
   "outputs": [],
   "source": [
    "def calcularPC(A, D, P, IVA, IVD, IVP, PCM):\n",
    "    return floor(((A+IVA)*(sqrt(D+IVD))*(sqrt(P+IVP)*PCM**2))/10)"
   ]
  },
  {
   "cell_type": "code",
   "execution_count": 13,
   "id": "c9ee9e45-9941-445c-967d-9e52106a5876",
   "metadata": {
    "tags": []
   },
   "outputs": [],
   "source": [
    "def add_parameters(data):\n",
    "    df = pd.DataFrame()\n",
    "    for i in range(len(data)):\n",
    "        row = data.iloc[i]\n",
    "        for j in range(30):\n",
    "            row['Pokemon'] = row['pokemon'].replace('Manzana', 100)\n",
    "            row[\"IVA\"] = rd.randint(0,15)\n",
    "            row[\"IVD\"] = rd.randint(0,15)\n",
    "            row[\"IVP\"] = rd.randint(0,15)\n",
    "            row[\"PCM\"] = nivel_PCM[f\"{rd.randint(1,30)}\"]\n",
    "            \n",
    "            A, D, P, IVA, IVD, IVP, PCM = row[\"Attack\"], row[\"Defense\"], row[\"Stamina\"], row[\"IVA\"],row[\"IVD\"], row[\"IVP\"], row[\"PCM\"]\n",
    "            row[\"PC\"] = calcularPC(int(A), int(D), int(P), int(IVA), int(IVD), int(IVP), PCM)\n",
    "            df = pd.concat([df, pd.DataFrame([row])], ignore_index=True)\n",
    "    return df\n"
   ]
  },
  {
   "cell_type": "code",
   "execution_count": 15,
   "id": "d39d6989-b025-4c58-9195-a49ca1f18b8e",
   "metadata": {},
   "outputs": [],
   "source": [
    "data = add_parameters(data)"
   ]
  },
  {
   "cell_type": "code",
   "execution_count": 16,
   "id": "f37441df-e9b6-40db-9997-841a0dafed7c",
   "metadata": {},
   "outputs": [
    {
     "data": {
      "text/html": [
       "<div>\n",
       "<style scoped>\n",
       "    .dataframe tbody tr th:only-of-type {\n",
       "        vertical-align: middle;\n",
       "    }\n",
       "\n",
       "    .dataframe tbody tr th {\n",
       "        vertical-align: top;\n",
       "    }\n",
       "\n",
       "    .dataframe thead th {\n",
       "        text-align: right;\n",
       "    }\n",
       "</style>\n",
       "<table border=\"1\" class=\"dataframe\">\n",
       "  <thead>\n",
       "    <tr style=\"text-align: right;\">\n",
       "      <th></th>\n",
       "      <th>Pokemon</th>\n",
       "      <th>Attack</th>\n",
       "      <th>Defense</th>\n",
       "      <th>Stamina</th>\n",
       "      <th>IVA</th>\n",
       "      <th>IVD</th>\n",
       "      <th>IVP</th>\n",
       "      <th>PCM</th>\n",
       "      <th>PC</th>\n",
       "    </tr>\n",
       "  </thead>\n",
       "  <tbody>\n",
       "    <tr>\n",
       "      <th>0</th>\n",
       "      <td>Slaking</td>\n",
       "      <td>290</td>\n",
       "      <td>166</td>\n",
       "      <td>284</td>\n",
       "      <td>12</td>\n",
       "      <td>10</td>\n",
       "      <td>0</td>\n",
       "      <td>0.597400</td>\n",
       "      <td>2409</td>\n",
       "    </tr>\n",
       "    <tr>\n",
       "      <th>1</th>\n",
       "      <td>Slaking</td>\n",
       "      <td>290</td>\n",
       "      <td>166</td>\n",
       "      <td>284</td>\n",
       "      <td>13</td>\n",
       "      <td>3</td>\n",
       "      <td>7</td>\n",
       "      <td>0.612157</td>\n",
       "      <td>2518</td>\n",
       "    </tr>\n",
       "    <tr>\n",
       "      <th>2</th>\n",
       "      <td>Slaking</td>\n",
       "      <td>290</td>\n",
       "      <td>166</td>\n",
       "      <td>284</td>\n",
       "      <td>15</td>\n",
       "      <td>12</td>\n",
       "      <td>5</td>\n",
       "      <td>0.566755</td>\n",
       "      <td>2222</td>\n",
       "    </tr>\n",
       "    <tr>\n",
       "      <th>3</th>\n",
       "      <td>Slaking</td>\n",
       "      <td>290</td>\n",
       "      <td>166</td>\n",
       "      <td>284</td>\n",
       "      <td>14</td>\n",
       "      <td>6</td>\n",
       "      <td>11</td>\n",
       "      <td>0.443108</td>\n",
       "      <td>1344</td>\n",
       "    </tr>\n",
       "    <tr>\n",
       "      <th>4</th>\n",
       "      <td>Slaking</td>\n",
       "      <td>290</td>\n",
       "      <td>166</td>\n",
       "      <td>284</td>\n",
       "      <td>3</td>\n",
       "      <td>12</td>\n",
       "      <td>3</td>\n",
       "      <td>0.255720</td>\n",
       "      <td>433</td>\n",
       "    </tr>\n",
       "    <tr>\n",
       "      <th>...</th>\n",
       "      <td>...</td>\n",
       "      <td>...</td>\n",
       "      <td>...</td>\n",
       "      <td>...</td>\n",
       "      <td>...</td>\n",
       "      <td>...</td>\n",
       "      <td>...</td>\n",
       "      <td>...</td>\n",
       "      <td>...</td>\n",
       "    </tr>\n",
       "    <tr>\n",
       "      <th>21655</th>\n",
       "      <td>Honedge</td>\n",
       "      <td>0</td>\n",
       "      <td>0</td>\n",
       "      <td>0</td>\n",
       "      <td>8</td>\n",
       "      <td>3</td>\n",
       "      <td>3</td>\n",
       "      <td>0.654436</td>\n",
       "      <td>1</td>\n",
       "    </tr>\n",
       "    <tr>\n",
       "      <th>21656</th>\n",
       "      <td>Honedge</td>\n",
       "      <td>0</td>\n",
       "      <td>0</td>\n",
       "      <td>0</td>\n",
       "      <td>2</td>\n",
       "      <td>6</td>\n",
       "      <td>9</td>\n",
       "      <td>0.290250</td>\n",
       "      <td>0</td>\n",
       "    </tr>\n",
       "    <tr>\n",
       "      <th>21657</th>\n",
       "      <td>Honedge</td>\n",
       "      <td>0</td>\n",
       "      <td>0</td>\n",
       "      <td>0</td>\n",
       "      <td>11</td>\n",
       "      <td>7</td>\n",
       "      <td>5</td>\n",
       "      <td>0.255720</td>\n",
       "      <td>0</td>\n",
       "    </tr>\n",
       "    <tr>\n",
       "      <th>21658</th>\n",
       "      <td>Honedge</td>\n",
       "      <td>0</td>\n",
       "      <td>0</td>\n",
       "      <td>0</td>\n",
       "      <td>7</td>\n",
       "      <td>9</td>\n",
       "      <td>10</td>\n",
       "      <td>0.443108</td>\n",
       "      <td>1</td>\n",
       "    </tr>\n",
       "    <tr>\n",
       "      <th>21659</th>\n",
       "      <td>Honedge</td>\n",
       "      <td>0</td>\n",
       "      <td>0</td>\n",
       "      <td>0</td>\n",
       "      <td>1</td>\n",
       "      <td>13</td>\n",
       "      <td>5</td>\n",
       "      <td>0.375236</td>\n",
       "      <td>0</td>\n",
       "    </tr>\n",
       "  </tbody>\n",
       "</table>\n",
       "<p>21660 rows × 9 columns</p>\n",
       "</div>"
      ],
      "text/plain": [
       "       Pokemon  Attack  Defense  Stamina  IVA  IVD  IVP       PCM    PC\n",
       "0      Slaking     290      166      284   12   10    0  0.597400  2409\n",
       "1      Slaking     290      166      284   13    3    7  0.612157  2518\n",
       "2      Slaking     290      166      284   15   12    5  0.566755  2222\n",
       "3      Slaking     290      166      284   14    6   11  0.443108  1344\n",
       "4      Slaking     290      166      284    3   12    3  0.255720   433\n",
       "...        ...     ...      ...      ...  ...  ...  ...       ...   ...\n",
       "21655  Honedge       0        0        0    8    3    3  0.654436     1\n",
       "21656  Honedge       0        0        0    2    6    9  0.290250     0\n",
       "21657  Honedge       0        0        0   11    7    5  0.255720     0\n",
       "21658  Honedge       0        0        0    7    9   10  0.443108     1\n",
       "21659  Honedge       0        0        0    1   13    5  0.375236     0\n",
       "\n",
       "[21660 rows x 9 columns]"
      ]
     },
     "execution_count": 16,
     "metadata": {},
     "output_type": "execute_result"
    }
   ],
   "source": [
    "data"
   ]
  },
  {
   "cell_type": "code",
   "execution_count": null,
   "id": "79e3bb53-1520-403e-9ae4-93bb6eb2315a",
   "metadata": {},
   "outputs": [],
   "source": []
  }
 ],
 "metadata": {
  "kernelspec": {
   "display_name": "Python 3 (ipykernel)",
   "language": "python",
   "name": "python3"
  },
  "language_info": {
   "codemirror_mode": {
    "name": "ipython",
    "version": 3
   },
   "file_extension": ".py",
   "mimetype": "text/x-python",
   "name": "python",
   "nbconvert_exporter": "python",
   "pygments_lexer": "ipython3",
   "version": "3.11.5"
  }
 },
 "nbformat": 4,
 "nbformat_minor": 5
}
