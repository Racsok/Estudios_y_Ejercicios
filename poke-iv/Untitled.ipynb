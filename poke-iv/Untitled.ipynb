{
 "cells": [
  {
   "cell_type": "code",
   "execution_count": 1,
   "id": "75d00188-2e03-4e32-80be-ca2a225bfa75",
   "metadata": {
    "tags": []
   },
   "outputs": [],
   "source": [
    "import requests\n",
    "import json\n",
    "import os"
   ]
  },
  {
   "cell_type": "code",
   "execution_count": 4,
   "id": "d280e809-07a9-4884-a64a-76b4f4ab8e46",
   "metadata": {
    "tags": []
   },
   "outputs": [],
   "source": [
    "def get_pokemon_id_name_dict():\n",
    "    pokemon_dict = {}\n",
    "    url = \"https://pokeapi.co/api/v2/pokemon?limit=100000&offset=0\"\n",
    "    try:\n",
    "        response = requests.get(url)\n",
    "        response.raise_for_status()  # Lanza una excepción para errores HTTP\n",
    "\n",
    "        data = response.json()\n",
    "        results = data[\"results\"]\n",
    "\n",
    "        for pokemon_data in results:\n",
    "                # El ID del Pokémon se puede extraer de la URL\n",
    "                # La URL tiene el formato: \"https://pokeapi.co/api/v2/pokemon/ID/\"\n",
    "            parts = pokemon_data[\"url\"].split('/')\n",
    "            pokemon_id = int(parts[-2]) # El ID es el penúltimo elemento\n",
    "\n",
    "            pokemon_name = pokemon_data[\"name\"]\n",
    "            pokemon_dict[pokemon_name] = pokemon_id\n",
    "\n",
    "    except requests.exceptions.RequestException as e:\n",
    "        print(f\"Error al conectar con la API: {e}\")\n",
    "    except Exception as e:\n",
    "        print(f\"Ocurrió un error inesperado: {e}\")\n",
    "    return pokemon_dict"
   ]
  },
  {
   "cell_type": "code",
   "execution_count": 5,
   "id": "15ae2c36-aa67-45d3-87f2-6cfc18085bd4",
   "metadata": {
    "tags": []
   },
   "outputs": [],
   "source": [
    "def save_pokemon_dict_to_file(pokemon_dict, filename=\"pokemon_id_name.json\"):\n",
    "    \"\"\"\n",
    "    Guarda el diccionario de Pokémon en un archivo JSON.\n",
    "\n",
    "    Args:\n",
    "        pokemon_dict (dict): El diccionario de Pokémon a guardar.\n",
    "        filename (str): El nombre del archivo donde se guardará.\n",
    "    \"\"\"\n",
    "    try:\n",
    "        with open(filename, 'w', encoding='utf-8') as f:\n",
    "            json.dump(pokemon_dict, f, ensure_ascii=False, indent=4)\n",
    "        print(f\"Diccionario de Pokémon guardado exitosamente en '{filename}'\")\n",
    "    except IOError as e:\n",
    "        print(f\"Error al guardar el archivo '{filename}': {e}\")\n"
   ]
  },
  {
   "cell_type": "code",
   "execution_count": 7,
   "id": "1e358500-14f4-481c-91d8-ae5aec5f54c5",
   "metadata": {
    "tags": []
   },
   "outputs": [
    {
     "name": "stdout",
     "output_type": "stream",
     "text": [
      "Diccionario de Pokémon guardado exitosamente en 'pokemon_id_name.json'\n"
     ]
    }
   ],
   "source": [
    "pokemon_id_name_map = get_pokemon_id_name_dict()\n",
    "if pokemon_id_name_map:\n",
    "    save_pokemon_dict_to_file(pokemon_id_name_map)\n",
    "else:\n",
    "    print(\"No se pudo obtener el diccionario de Pokémon. El archivo no será creado.\")"
   ]
  },
  {
   "cell_type": "code",
   "execution_count": null,
   "id": "f8a817b5-73e3-4eca-9632-a0f8a9752374",
   "metadata": {},
   "outputs": [],
   "source": []
  }
 ],
 "metadata": {
  "kernelspec": {
   "display_name": "Python 3 (ipykernel)",
   "language": "python",
   "name": "python3"
  },
  "language_info": {
   "codemirror_mode": {
    "name": "ipython",
    "version": 3
   },
   "file_extension": ".py",
   "mimetype": "text/x-python",
   "name": "python",
   "nbconvert_exporter": "python",
   "pygments_lexer": "ipython3",
   "version": "3.11.5"
  }
 },
 "nbformat": 4,
 "nbformat_minor": 5
}
