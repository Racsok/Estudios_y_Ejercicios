{
 "cells": [
  {
   "cell_type": "code",
   "execution_count": 11,
   "id": "b2c7eb33-d702-4599-b3d3-a0dc395fccf2",
   "metadata": {
    "tags": []
   },
   "outputs": [],
   "source": [
    "import pandas as pd"
   ]
  },
  {
   "cell_type": "code",
   "execution_count": 17,
   "id": "1cce7d08-ea8e-4505-b898-a55f5b7d59ae",
   "metadata": {
    "tags": []
   },
   "outputs": [],
   "source": [
    "class Data_ingestion:\n",
    "    data_url = \"./\"\n",
    "    data = []\n",
    "    \n",
    "    def __init__(self):\n",
    "        pass\n",
    "    \n",
    "    def ingestion(self):\n",
    "        pokemon_go_data = pd.read_csv(f\"{self.data_url}PokemonGOData.csv\")\n",
    "        self.data = [pokemon_go_data]\n",
    "        \n",
    "    def get_data(self):\n",
    "        if not self.data:\n",
    "            self.ingestion()\n",
    "        return self.data"
   ]
  },
  {
   "cell_type": "code",
   "execution_count": null,
   "id": "ebcf38f5-9d50-4058-925c-e99b89a4dcfd",
   "metadata": {},
   "outputs": [],
   "source": []
  }
 ],
 "metadata": {
  "kernelspec": {
   "display_name": "Python 3 (ipykernel)",
   "language": "python",
   "name": "python3"
  },
  "language_info": {
   "codemirror_mode": {
    "name": "ipython",
    "version": 3
   },
   "file_extension": ".py",
   "mimetype": "text/x-python",
   "name": "python",
   "nbconvert_exporter": "python",
   "pygments_lexer": "ipython3",
   "version": "3.11.5"
  }
 },
 "nbformat": 4,
 "nbformat_minor": 5
}
