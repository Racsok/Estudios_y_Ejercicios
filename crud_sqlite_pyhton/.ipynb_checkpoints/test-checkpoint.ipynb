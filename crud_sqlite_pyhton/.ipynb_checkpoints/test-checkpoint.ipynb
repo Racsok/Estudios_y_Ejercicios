{
 "cells": [
  {
   "cell_type": "code",
   "execution_count": 1,
   "id": "28f8af00-5380-46a7-901a-7d5fe2441364",
   "metadata": {
    "tags": []
   },
   "outputs": [],
   "source": [
    "import sqlite3 as sql3"
   ]
  },
  {
   "cell_type": "code",
   "execution_count": 2,
   "id": "d06bc734-ed43-442f-916f-9b0d7e4bdfec",
   "metadata": {
    "tags": []
   },
   "outputs": [],
   "source": [
    "conexion = sql3.connect(\"base.db\")\n",
    "cursor = conexion.cursor()"
   ]
  },
  {
   "cell_type": "code",
   "execution_count": 9,
   "id": "de3f148d-66fa-437f-b15a-290eb6b84e89",
   "metadata": {
    "tags": []
   },
   "outputs": [],
   "source": [
    "\n",
    "try:\n",
    "    conexion.execute(\"\"\"CREATE TABLE IF NOT EXISTS Personaje  (\n",
    "        id integer PRIMARY KEY AUTOINCREMENT,\n",
    "        nombre text,\n",
    "        edad integer, \n",
    "        clase text\n",
    "        \n",
    "    );\"\"\")\n",
    "except:\n",
    "    raise Exception(\"ocurrio un error en al crear la tabla\")"
   ]
  },
  {
   "cell_type": "code",
   "execution_count": 3,
   "id": "51a8a897-5593-4da9-ba3a-f95c684284be",
   "metadata": {
    "tags": []
   },
   "outputs": [],
   "source": [
    "try:\n",
    "    personajes = cursor.execute(\"\"\"SELECT * FROM Personaje;\"\"\")\n",
    "except:\n",
    "    raise Exception(\"Ocurrio un error al selecionar\")"
   ]
  },
  {
   "cell_type": "code",
   "execution_count": 19,
   "id": "e03b1c80-17ed-4119-ab25-dc34a04fa7d5",
   "metadata": {
    "tags": []
   },
   "outputs": [
    {
     "ename": "Exception",
     "evalue": "Ocurrio un error al insertar",
     "output_type": "error",
     "traceback": [
      "\u001b[0;31m---------------------------------------------------------------------------\u001b[0m",
      "\u001b[0;31mOperationalError\u001b[0m                          Traceback (most recent call last)",
      "Cell \u001b[0;32mIn[19], line 2\u001b[0m\n\u001b[1;32m      1\u001b[0m \u001b[38;5;28;01mtry\u001b[39;00m:\n\u001b[0;32m----> 2\u001b[0m     cursor\u001b[38;5;241m.\u001b[39mexecute(\u001b[38;5;124m\"\"\"\u001b[39m\u001b[38;5;124mINSERT INTO Personaje (nombre, edad, clase) VALUES (\u001b[39m\u001b[38;5;124m\"\u001b[39m\u001b[38;5;124mPeter\u001b[39m\u001b[38;5;124m\"\u001b[39m\u001b[38;5;124m, 17, \u001b[39m\u001b[38;5;124m\"\u001b[39m\u001b[38;5;124mguerrero\u001b[39m\u001b[38;5;124m\"\u001b[39m\u001b[38;5;124m);\u001b[39m\u001b[38;5;124m\"\"\"\u001b[39m)\n\u001b[1;32m      3\u001b[0m \u001b[38;5;28;01mexcept\u001b[39;00m:\n",
      "\u001b[0;31mOperationalError\u001b[0m: database is locked",
      "\nDuring handling of the above exception, another exception occurred:\n",
      "\u001b[0;31mException\u001b[0m                                 Traceback (most recent call last)",
      "Cell \u001b[0;32mIn[19], line 4\u001b[0m\n\u001b[1;32m      2\u001b[0m     cursor\u001b[38;5;241m.\u001b[39mexecute(\u001b[38;5;124m\"\"\"\u001b[39m\u001b[38;5;124mINSERT INTO Personaje (nombre, edad, clase) VALUES (\u001b[39m\u001b[38;5;124m\"\u001b[39m\u001b[38;5;124mPeter\u001b[39m\u001b[38;5;124m\"\u001b[39m\u001b[38;5;124m, 17, \u001b[39m\u001b[38;5;124m\"\u001b[39m\u001b[38;5;124mguerrero\u001b[39m\u001b[38;5;124m\"\u001b[39m\u001b[38;5;124m);\u001b[39m\u001b[38;5;124m\"\"\"\u001b[39m)\n\u001b[1;32m      3\u001b[0m \u001b[38;5;28;01mexcept\u001b[39;00m:\n\u001b[0;32m----> 4\u001b[0m     \u001b[38;5;28;01mraise\u001b[39;00m \u001b[38;5;167;01mException\u001b[39;00m(\u001b[38;5;124m\"\u001b[39m\u001b[38;5;124mOcurrio un error al insertar\u001b[39m\u001b[38;5;124m\"\u001b[39m)\n",
      "\u001b[0;31mException\u001b[0m: Ocurrio un error al insertar"
     ]
    }
   ],
   "source": [
    "try:\n",
    "    cursor.execute(\"\"\"INSERT INTO Personaje (nombre, edad, clase) VALUES (\"Peter\", 17, \"guerrero\");\"\"\")\n",
    "except:\n",
    "    raise Exception(\"Ocurrio un error al insertar\")"
   ]
  },
  {
   "cell_type": "code",
   "execution_count": 20,
   "id": "558db7db-2289-4b14-b213-bc2a2c8d8406",
   "metadata": {},
   "outputs": [],
   "source": [
    "personajes = cursor.execute(\"\"\"SELECT * FROM Personaje;\"\"\").fetchall()"
   ]
  },
  {
   "cell_type": "code",
   "execution_count": null,
   "id": "318ff080-00d3-41b8-b94b-4237057336b3",
   "metadata": {
    "tags": []
   },
   "outputs": [],
   "source": [
    "personajes"
   ]
  },
  {
   "cell_type": "code",
   "execution_count": null,
   "id": "fbab3c0e-eb82-442d-be2c-4bf20c0f9245",
   "metadata": {},
   "outputs": [],
   "source": [
    "conexion.close()"
   ]
  }
 ],
 "metadata": {
  "kernelspec": {
   "display_name": "Python 3 (ipykernel)",
   "language": "python",
   "name": "python3"
  },
  "language_info": {
   "codemirror_mode": {
    "name": "ipython",
    "version": 3
   },
   "file_extension": ".py",
   "mimetype": "text/x-python",
   "name": "python",
   "nbconvert_exporter": "python",
   "pygments_lexer": "ipython3",
   "version": "3.11.5"
  }
 },
 "nbformat": 4,
 "nbformat_minor": 5
}
