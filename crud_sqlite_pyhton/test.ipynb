{
 "cells": [
  {
   "cell_type": "code",
   "execution_count": 1,
   "id": "28f8af00-5380-46a7-901a-7d5fe2441364",
   "metadata": {
    "tags": []
   },
   "outputs": [],
   "source": [
    "import sqlite3 as sql3"
   ]
  },
  {
   "cell_type": "code",
   "execution_count": 11,
   "id": "d06bc734-ed43-442f-916f-9b0d7e4bdfec",
   "metadata": {
    "tags": []
   },
   "outputs": [],
   "source": [
    "conexion = sql3.connect(\"instance/base_.db\")\n",
    "cursor = conexion.cursor()"
   ]
  },
  {
   "cell_type": "code",
   "execution_count": 13,
   "id": "de3f148d-66fa-437f-b15a-290eb6b84e89",
   "metadata": {
    "tags": []
   },
   "outputs": [],
   "source": [
    "\n",
    "try:\n",
    "    cursor.execute(\"\"\"CREATE TABLE IF NOT EXISTS Personaje  (\n",
    "        id integer PRIMARY KEY AUTOINCREMENT,\n",
    "        nombre text,\n",
    "        edad integer, \n",
    "        clase text\n",
    "        \n",
    "    );\"\"\")\n",
    "except:\n",
    "    raise Exception(\"ocurrio un error en al crear la tabla\")"
   ]
  },
  {
   "cell_type": "code",
   "execution_count": 15,
   "id": "51a8a897-5593-4da9-ba3a-f95c684284be",
   "metadata": {
    "tags": []
   },
   "outputs": [],
   "source": [
    "try:\n",
    "    personajes = cursor.execute(\"\"\"SELECT * FROM Personaje;\"\"\").fetchall()\n",
    "except:\n",
    "    raise Exception(\"Ocurrio un error al selecionar\")"
   ]
  },
  {
   "cell_type": "code",
   "execution_count": 14,
   "id": "e03b1c80-17ed-4119-ab25-dc34a04fa7d5",
   "metadata": {
    "tags": []
   },
   "outputs": [],
   "source": [
    "try:\n",
    "    cursor.execute(\"\"\"INSERT INTO Personaje (nombre, edad, clase) VALUES (\"Peter\", 17, \"guerrero\");\"\"\")\n",
    "except:\n",
    "    raise Exception(\"Ocurrio un error al insertar\")"
   ]
  },
  {
   "cell_type": "code",
   "execution_count": 16,
   "id": "318ff080-00d3-41b8-b94b-4237057336b3",
   "metadata": {
    "tags": []
   },
   "outputs": [
    {
     "data": {
      "text/plain": [
       "[(1, 'Peter', 17, 'guerrero')]"
      ]
     },
     "execution_count": 16,
     "metadata": {},
     "output_type": "execute_result"
    }
   ],
   "source": [
    "personajes"
   ]
  },
  {
   "cell_type": "code",
   "execution_count": 17,
   "id": "fbab3c0e-eb82-442d-be2c-4bf20c0f9245",
   "metadata": {
    "tags": []
   },
   "outputs": [],
   "source": [
    "conexion.commit()\n",
    "cursor.close()\n",
    "conexion.close()"
   ]
  },
  {
   "cell_type": "code",
   "execution_count": null,
   "id": "99931895-0e8f-43c9-85b1-a7158aded379",
   "metadata": {},
   "outputs": [],
   "source": []
  }
 ],
 "metadata": {
  "kernelspec": {
   "display_name": "Python 3 (ipykernel)",
   "language": "python",
   "name": "python3"
  },
  "language_info": {
   "codemirror_mode": {
    "name": "ipython",
    "version": 3
   },
   "file_extension": ".py",
   "mimetype": "text/x-python",
   "name": "python",
   "nbconvert_exporter": "python",
   "pygments_lexer": "ipython3",
   "version": "3.11.5"
  }
 },
 "nbformat": 4,
 "nbformat_minor": 5
}
