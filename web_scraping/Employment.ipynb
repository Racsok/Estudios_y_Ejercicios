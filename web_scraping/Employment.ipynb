{
 "cells": [
  {
   "cell_type": "code",
   "execution_count": 14,
   "id": "e60ea43f-58e3-4f27-a25d-1dce0e600762",
   "metadata": {
    "tags": []
   },
   "outputs": [],
   "source": [
    "import requests\n",
    "import json \n",
    "from bs4 import BeautifulSoup as bs"
   ]
  },
  {
   "cell_type": "code",
   "execution_count": 2,
   "id": "95e9d38f-8651-4647-bb35-07becee3e9ab",
   "metadata": {
    "tags": []
   },
   "outputs": [],
   "source": [
    "url = \"https://www.elempleo.com/co/ofertas-empleo/bogota?gad_source=1&gbraid=0AAAAADw-9X7ZV-siPFadK03ASRSuqJhWi&gclid=CjwKCAjwn6LABhBSEiwAsNJrjlSYZxKutjpGnPI2FBzZzcwDhC_H_wYspacpFCoksudobdY9OIYBXRoCEckQAvD_BwE\""
   ]
  },
  {
   "cell_type": "code",
   "execution_count": 3,
   "id": "5640b860-3a98-4250-b236-903e3a160958",
   "metadata": {
    "tags": []
   },
   "outputs": [],
   "source": [
    "req = requests.get(url)\n",
    "soup = bs(req.text)\n",
    "listResult = soup.find_all('div', class_=\"result-item\")"
   ]
  },
  {
   "cell_type": "code",
   "execution_count": 21,
   "id": "df0c3dc7-938b-4f5c-a1e0-9fa96ac6b808",
   "metadata": {
    "tags": []
   },
   "outputs": [],
   "source": [
    "def makeDoc(id, name, url, company, salary, tags):\n",
    "    return f'{{\"id\":{id}, \"name\":{name}, \"url\":{url}, \"company\":{company}, \"salary\":{salary}, \"tags\":{tags}}}'"
   ]
  },
  {
   "cell_type": "code",
   "execution_count": 22,
   "id": "89c1d401-9b77-4671-a2f3-c9ed9fd624df",
   "metadata": {},
   "outputs": [
    {
     "name": "stdout",
     "output_type": "stream",
     "text": [
      "{\"id\":1886467889, \"name\":Fisioterapeutas sst - santa marta, \"url\":/co/ofertas-trabajo/fisioterapeutas-sst-santa-marta-1886467889, \"company\":mevisalud ips, \"salary\":$3 a $3,5 millones, \"tags\":fisioterapeutas,salud ocupacional,sst}\n",
      "{\"id\":1886467892, \"name\":Auxiliar de enfermería villavicencio, \"url\":/co/ofertas-trabajo/auxiliar-de-enfermeria-villavicencio-1886467892, \"company\":PROFAMILIA, \"salary\":$1,5 a $2 millones, \"tags\":Villavicencio,auxiliar de enfermería}\n",
      "{\"id\":1886467905, \"name\":Regente de farmacia / ips / bogota, \"url\":/co/ofertas-trabajo/regente-de-farmacia---ips---bogota-1886467905, \"company\":Empresa confidencial, \"salary\":$2,5 a $3 millones, \"tags\":IPS,regente de farmacia,bogota d.c.}\n",
      "{\"id\":1886467906, \"name\":Profesional de contratación pública /manejo de secop ll, \"url\":/co/ofertas-trabajo/profesional-de-contratacion-publica--manejo-de-secop-ll-1886467906, \"company\":Empresa confidencial, \"salary\":$2,5 a $3 millones, \"tags\":coordinador educación continua,coordinador de proyectos,Contratación Pública}\n",
      "{\"id\":1886467907, \"name\":Regente de farmacia / ips / bogota, \"url\":/co/ofertas-trabajo/regente-de-farmacia---ips---bogota-1886467907, \"company\":Empresa confidencial, \"salary\":$2,5 a $3 millones, \"tags\":IPS,regente de farmacia,bogota d.c.}\n",
      "{\"id\":1886467904, \"name\":Medico/a laboral / bogotá, \"url\":/co/ofertas-trabajo/medico-a-laboral---bogota-1886467904, \"company\":MEDICALL TALENTO HUMANO S.A.S., \"salary\":$4 a $4,5 millones, \"tags\":Medico,Medicina Laboral,Especialista en SST}\n",
      "{\"id\":1886455418, \"name\":Revisor aduanas, \"url\":/co/ofertas-trabajo/revisor-aduanas-1886455418, \"company\":ELITE LOGISTICA Y RENDIMIENTO, \"salary\":Salario confidencial, \"tags\":revisor,documental}\n",
      "{\"id\":1886301778, \"name\":Analista de comercio exterior, \"url\":/co/ofertas-trabajo/analista-de-comercio-exterior-1886301778, \"company\":ELITE LOGISTICA Y RENDIMIENTO, \"salary\":Salario confidencial, \"tags\":Transporte,Agencia de aduanas,VUCE}\n",
      "{\"id\":1886467899, \"name\":Bacteriologo, \"url\":/co/ofertas-trabajo/bacteriologo-1886467899, \"company\":HOSPITAL UNIVERSITARIO CLÌNICA SAN RAFAEL, \"salary\":$3,5 a $4 millones, \"tags\":Bacteriologo,Beckton Dikinson,Microbiologia}\n",
      "{\"id\":1886467895, \"name\":Desarrollador java backend, \"url\":/co/ofertas-trabajo/desarrollador-java-backend-1886467895, \"company\":Zemsania Colombia S.A.S, \"salary\":Salario confidencial, \"tags\":java,spring,ASO}\n",
      "{\"id\":1886467766, \"name\":Asesor comercial, \"url\":/co/ofertas-trabajo/asesor-comercial-1886467766, \"company\":INTERNATIONAL LEARNING SERVICES S A S, \"salary\":$1,5 a $2 millones, \"tags\":atencion al cliente,proactivo,escucha activa}\n",
      "{\"id\":1886467920, \"name\":Profesional tic-bogotá, \"url\":/co/ofertas-trabajo/profesional-ticbogota-1886467920, \"company\":ACI PROYECTOS S.A., \"salary\":$5,5 a $6 millones, \"tags\":interventoría tecnológica}\n",
      "{\"id\":1886467911, \"name\":Coordinador de proyectos y educación continua (contratación pública y manejo de secop ll), \"url\":/co/ofertas-trabajo/coordinador-de-proyectos-y-educacion-continua-contratacion-publica-y-manejo-de-secop-ll-1886467911, \"company\":Empresa confidencial, \"salary\":$2,5 a $3 millones, \"tags\":coordinador educación continua,coordinador de proyectos,Contratación Pública}\n",
      "{\"id\":1886467927, \"name\":Bogotá / asesor comercial perfilamiento call center, \"url\":/co/ofertas-trabajo/bogota---asesor-comercial-perfilamiento-call-center-1886467927, \"company\":Empresa confidencial, \"salary\":$2 a $2,5 millones, \"tags\":construccion,ventas,redes}\n",
      "{\"id\":1886467928, \"name\":Bogotá / asesor comercial perfilamiento call center, \"url\":/co/ofertas-trabajo/bogota---asesor-comercial-perfilamiento-call-center-1886467928, \"company\":Empresa confidencial, \"salary\":$2 a $2,5 millones, \"tags\":construccion,ventas,redes}\n",
      "{\"id\":1886467945, \"name\":Ingenieros sistemas weblogic, \"url\":/co/ofertas-trabajo/ingenieros-sistemas-weblogic-1886467945, \"company\": Sinergy & Lowells, \"salary\":$6 a $8 millones, \"tags\":virtualizacion,sistemas}\n",
      "{\"id\":1886467947, \"name\":Analista analista de servicio viajes, \"url\":/co/ofertas-trabajo/analista-analista-de-servicio-viajes-1886467947, \"company\":Empresa confidencial, \"salary\":$2 a $2,5 millones, \"tags\":viajes,servicio al cliente,administracion}\n",
      "{\"id\":1886467950, \"name\":Mesero, \"url\":/co/ofertas-trabajo/mesero-1886467950, \"company\":PONTIFICIA UNIVERSID, \"salary\":$1 a $1,5 millones, \"tags\":mesero}\n",
      "{\"id\":1886467949, \"name\":Auxiliar de enfermería lactario, \"url\":/co/ofertas-trabajo/auxiliar-de-enfermeria-lactario-1886467949, \"company\":Fundación Santa Fe de Bogotá, \"salary\":$2 a $2,5 millones, \"tags\":enfermeria,salud,lactario}\n",
      "{\"id\":1886467955, \"name\":Gerente de producción, \"url\":/co/ofertas-trabajo/gerente-de-produccion-1886467955, \"company\":Empresa confidencial, \"salary\":$10 a $12,5 millones, \"tags\":TMP,BUENAS PRACTICAS DE MANUFACTURA,PRODUCCION INDUSTRIAL}\n",
      "{\"id\":1886467957, \"name\":Auxiliar de transporte interno hospitalario (camillero), \"url\":/co/ofertas-trabajo/auxiliar-de-transporte-interno-hospitalario-camillero-1886467957, \"company\":Empresa confidencial, \"salary\":Salario confidencial, \"tags\":calidez,tolerancia,empatía}\n",
      "{\"id\":1886467971, \"name\":Jefe mipe nemocon, \"url\":/co/ofertas-trabajo/jefe-mipe-nemocon-1886467971, \"company\":Elite Flower, \"salary\":Salario confidencial, \"tags\":clavel,Mipe,Flores}\n",
      "{\"id\":1886467964, \"name\":Bilingual supervisor, \"url\":/co/ofertas-trabajo/bilingual-supervisor-1886467964, \"company\":Oursourcing to Colombia, \"salary\":Salario confidencial, \"tags\":Proactive,organised and results oriented,Commitment and dedication to assigned activities}\n",
      "{\"id\":1886467984, \"name\":Analista de requerimientos, \"url\":/co/ofertas-trabajo/analista-de-requerimientos-1886467984, \"company\":Empresa confidencial, \"salary\":$4 a $4,5 millones, \"tags\":administrador de sistemas informaticos,cloud computing,gestión de proyectos}\n",
      "{\"id\":1886467995, \"name\":Auxiliar de toma de muestras, \"url\":/co/ofertas-trabajo/auxiliar-de-toma-de-muestras-1886467995, \"company\":Fundación Santa Fe de Bogotá, \"salary\":Salario confidencial, \"tags\":auxiliar de enfermería,laboratorio,muestras}\n",
      "{\"id\":1886467988, \"name\":Aplica ya sin experiencia/semillero asesores comerciales grupo aval, \"url\":/co/ofertas-trabajo/aplica-ya-sin-experiencia-semillero-asesores-comerciales-grupo-aval-1886467988, \"company\":NEXA BPO, \"salary\":$1,5 a $2 millones, \"tags\":ASESOR COMERCIAL,TARJETA CREDITO,LIBRANZA}\n",
      "{\"id\":1886467991, \"name\":Auxiliar de hseq, \"url\":/co/ofertas-trabajo/auxiliar-de-hseq-1886467991, \"company\":Empresa confidencial, \"salary\":$1 a $1,5 millones, \"tags\":seguridad industrial,calidad,ambiente}\n",
      "{\"id\":1886467975, \"name\":Arquitecto  santa marta, \"url\":/co/ofertas-trabajo/arquitecto-santa-marta-1886467975, \"company\":Empresa confidencial, \"salary\":$3,5 a $4 millones, \"tags\":arquitecto,entrega y posventas}\n",
      "{\"id\":1886468015, \"name\":Auxiliar de cocina, \"url\":/co/ofertas-trabajo/auxiliar-de-cocina-1886468015, \"company\":Health & Life IPS SAS, \"salary\":$1 a $1,5 millones, \"tags\":auxiliar de cocina}\n",
      "{\"id\":1886468017, \"name\":Piloto de dron  - agc, \"url\":/co/ofertas-trabajo/piloto-de-dron-agc-1886468017, \"company\":Empresa confidencial, \"salary\":$3 a $3,5 millones, \"tags\":piloto audiovisual,multimedia,dron}\n",
      "{\"id\":1886468000, \"name\":Reclutador bilingüe  c1 (skilled senior), \"url\":/co/ofertas-trabajo/reclutador-bilingue-c1-skilled-senior-1886468000, \"company\":MANPOWER, \"salary\":$3 a $3,5 millones, \"tags\":Reclutamiento,Seleccion}\n",
      "{\"id\":1886468005, \"name\":Asesor comercial call center recaudo de donaciones, \"url\":/co/ofertas-trabajo/asesor-comercial-call-center-recaudo-de-donaciones-1886468005, \"company\":NEXA BPO, \"salary\":$1 a $1,5 millones, \"tags\":libranza ejecutivo comercial externo ventas financiero seguros}\n",
      "{\"id\":1886468026, \"name\":Auxiliar de experiencia al paciente, \"url\":/co/ofertas-trabajo/auxiliar-de-experiencia-al-paciente-1886468026, \"company\":Los Cobos Medical Center, \"salary\":$2 a $2,5 millones, \"tags\":servicio al cliente,orientacion al usuario}\n",
      "{\"id\":1886468023, \"name\":Coordinador de operaciones de transporte, \"url\":/co/ofertas-trabajo/coordinador-de-operaciones-de-transporte-1886468023, \"company\":Empresa confidencial, \"salary\":Salario confidencial, \"tags\":logística y transporte,Plan Estratégico de Seguridad Vial,fidelización de flota}\n",
      "{\"id\":1886468033, \"name\":Analista de transporte, \"url\":/co/ofertas-trabajo/analista-de-transporte-1886468033, \"company\":Empresa confidencial, \"salary\":$3,5 a $4 millones, \"tags\":consecución de vehiculos,vinculación de flota,conductores}\n",
      "{\"id\":1886468045, \"name\":Profesor medio tiempo logistica con maestria - presencial bogota, \"url\":/co/ofertas-trabajo/profesor-medio-tiempo-logistica-con-maestria-presencial-bogota-1886468045, \"company\":Politecnico Grancolombiano, \"salary\":$2 a $2,5 millones, \"tags\":Formulación y Evaluación de Proyectos,Metaheurísticas Aplicadas a la Logística,Diseño de Experimentos}\n",
      "{\"id\":1886468025, \"name\":Guardian del servicio, \"url\":/co/ofertas-trabajo/guardian-del-servicio-1886468025, \"company\":Health & Life IPS SAS, \"salary\":$1 a $1,5 millones, \"tags\":Guardian deln servicio (PQR),pqrs,Atencion}\n",
      "{\"id\":1886468081, \"name\":Profesional abastecimiento administrativo - profesional semi junior., \"url\":/co/ofertas-trabajo/profesional-abastecimiento-administrativo-profesional-semi-junior-1886468081, \"company\":GRUPO ENERGIA BOGOTA, \"salary\":Salario confidencial, \"tags\":compras,abastecimiento,indicadores}\n",
      "{\"id\":1886468089, \"name\":Auxiliar administrativo, \"url\":/co/ofertas-trabajo/auxiliar-administrativo-1886468089, \"company\":CODESS, \"salary\":$1 a $1,5 millones, \"tags\":Bachiller,Técnico,Tecnólogo}\n",
      "{\"id\":1886468079, \"name\":Profesional en salud de servicios medicos, \"url\":/co/ofertas-trabajo/profesional-en-salud-de-servicios-medicos-1886468079, \"company\":Empresa confidencial, \"salary\":Salario confidencial, \"tags\":Autorizaciones,Menejo de coherentes,No pbs}\n",
      "{\"id\":1886468093, \"name\":Asesor comercial call center recaudo de donaciones, \"url\":/co/ofertas-trabajo/asesor-comercial-call-center-recaudo-de-donaciones-1886468093, \"company\":NEXA BPO, \"salary\":$1 a $1,5 millones, \"tags\":libranza ejecutivo comercial externo ventas financiero seguros}\n",
      "{\"id\":1886468100, \"name\":Técnico electromecánico, \"url\":/co/ofertas-trabajo/tecnico-electromecanico-1886468100, \"company\":GRUPO FLA SAS, \"salary\":$1,5 a $2 millones, \"tags\":tecnico,electromecanico}\n",
      "{\"id\":1886468120, \"name\":Analista gestor de conciliaciones bancarias, \"url\":/co/ofertas-trabajo/analista-gestor-de-conciliaciones-bancarias-1886468120, \"company\":KIBERNUM SAS, \"salary\":$1,5 a $2 millones, \"tags\":Conciliaciones bancarias,cuadraturas,cuentas contables}\n",
      "{\"id\":1886468123, \"name\":Telefonista/ canal droguerias/ depositos, \"url\":/co/ofertas-trabajo/telefonista--canal-droguerias--depositos-1886468123, \"company\":Empresa confidencial, \"salary\":$2 a $2,5 millones, \"tags\":telefonista,call center,depositos}\n",
      "{\"id\":1886468145, \"name\":Coordinador académico - ingeniería industrial y mecatrónica, \"url\":/co/ofertas-trabajo/coordinador-academico-ingenieria-industrial-y-mecatronica-1886468145, \"company\":Empresa confidencial, \"salary\":$3 a $3,5 millones, \"tags\":coordinador,docente,administracion}\n",
      "{\"id\":1886468129, \"name\":Oficial de seguridad de la información, \"url\":/co/ofertas-trabajo/oficial-de-seguridad-de-la-informacion-1886468129, \"company\":Coasmedas, \"salary\":$6 a $8 millones, \"tags\":Normas internacionales relacionadas con estándares como: ISO 27001,ISO 27002,ISO 27032}\n",
      "{\"id\":1886463241, \"name\":Ejecutivo comercial movil-fondo de empleados, \"url\":/co/ofertas-trabajo/ejecutivo-comercial-movilfondo-de-empleados-1886463241, \"company\":GESTION COMPETITIVA SAS, \"salary\":$2 a $2,5 millones, \"tags\":ejecutivo comercial,ejecutivo de ventas,asesor comercial}\n",
      "{\"id\":1886463235, \"name\":Asesor de servicios-fondo de empleados, \"url\":/co/ofertas-trabajo/asesor-de-serviciosfondo-de-empleados-1886463235, \"company\":GESTION COMPETITIVA SAS, \"salary\":$3 a $3,5 millones, \"tags\":asesor de servicios,sector solidario}\n",
      "{\"id\":1886468174, \"name\":Desarrollador frontend (2 meses inicalmente), \"url\":/co/ofertas-trabajo/desarrollador-frontend-2-meses-inicalmente-1886468174, \"company\":PROPOSITO CONSULTORES SA, \"salary\":Salario confidencial, \"tags\":Nodejs,Bootstrap,React}\n",
      "{\"id\":1886468178, \"name\":N1 (monitorización), \"url\":/co/ofertas-trabajo/n1-monitorizacion-1886468178, \"company\":Empresa confidencial, \"salary\":$3 a $3,5 millones, \"tags\":sistemas,Python,PowerShell}\n"
     ]
    }
   ],
   "source": [
    "save_data = []\n",
    "for result in listResult:\n",
    "    urlJob = result.div['data-url']\n",
    "    data = json.loads(result.div['data-ga4-offerdata'])\n",
    "    if data:\n",
    "        id = data['id']\n",
    "        name = data['title']\n",
    "        company = data['company']\n",
    "        salary = data['salary']\n",
    "        tags = data['tags']\n",
    "        print(makeDoc(id=id, name=name, url=urlJob, company=company, salary=salary, tags=tags))\n",
    "    else:\n",
    "        print(\"ocurrio un error\")"
   ]
  },
  {
   "cell_type": "code",
   "execution_count": null,
   "id": "32c51014-725f-4cd0-87df-bf1043071afc",
   "metadata": {},
   "outputs": [],
   "source": []
  }
 ],
 "metadata": {
  "kernelspec": {
   "display_name": "Python 3 (ipykernel)",
   "language": "python",
   "name": "python3"
  },
  "language_info": {
   "codemirror_mode": {
    "name": "ipython",
    "version": 3
   },
   "file_extension": ".py",
   "mimetype": "text/x-python",
   "name": "python",
   "nbconvert_exporter": "python",
   "pygments_lexer": "ipython3",
   "version": "3.11.5"
  }
 },
 "nbformat": 4,
 "nbformat_minor": 5
}
