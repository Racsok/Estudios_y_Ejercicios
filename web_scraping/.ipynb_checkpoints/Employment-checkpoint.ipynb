{
 "cells": [
  {
   "cell_type": "code",
   "execution_count": 1,
   "id": "e60ea43f-58e3-4f27-a25d-1dce0e600762",
   "metadata": {
    "tags": []
   },
   "outputs": [],
   "source": [
    "import requests\n",
    "import json \n",
    "from bs4 import BeautifulSoup as bs"
   ]
  },
  {
   "cell_type": "code",
   "execution_count": 2,
   "id": "05790204-9bcd-4acb-b0a1-bacdc841a14d",
   "metadata": {
    "tags": []
   },
   "outputs": [],
   "source": [
    "#model class for job offers\n",
    "class JobOffer():\n",
    "    def __init__(self, job_id, name, url, company, salary, tags):\n",
    "        self.job_id = job_id\n",
    "        self.name = name\n",
    "        self.url = url\n",
    "        self.company = company\n",
    "        self.salary = salary\n",
    "        self.tags = tags\n",
    "        \n",
    "    def to_dict(self):\n",
    "        return {\n",
    "            \"job_id\": self.job_id,\n",
    "            \"name\": self.name,\n",
    "            \"url\": self.url,\n",
    "            \"company\": self.company,\n",
    "            \"salary\": self.salary,\n",
    "            \"tags\": self.tags\n",
    "        }"
   ]
  },
  {
   "cell_type": "code",
   "execution_count": 4,
   "id": "89c1d401-9b77-4671-a2f3-c9ed9fd624df",
   "metadata": {},
   "outputs": [],
   "source": [
    "def processingOffers(listResult):\n",
    "    save_offers = []\n",
    "    for result in listResult:\n",
    "        urlJob = result.div['data-url']\n",
    "        data = json.loads(result.div['data-ga4-offerdata'])\n",
    "        if data:\n",
    "            offer = JobOffer(\n",
    "            job_id = data.get(\"id\"),\n",
    "            name = data.get(\"title\"),\n",
    "            company = data.get(\"company\"),\n",
    "            url = urlJob,\n",
    "            salary = data.get(\"salary\"),\n",
    "            tags = data.get(\"tags\"))\n",
    "            save_offers.append(offer)\n",
    "        \n",
    "    return save_offers"
   ]
  },
  {
   "cell_type": "code",
   "execution_count": 5,
   "id": "5640b860-3a98-4250-b236-903e3a160958",
   "metadata": {
    "tags": []
   },
   "outputs": [],
   "source": [
    "def scrappingOffers(url):\n",
    "    req = requests.get(url)\n",
    "    soup = bs(req.text, 'html.parser')\n",
    "    listResult = soup.find_all('div', class_=\"result-item\")\n",
    "    offers = processingOffers(listResult)\n",
    "    return offers"
   ]
  }
 ],
 "metadata": {
  "kernelspec": {
   "display_name": "Python 3 (ipykernel)",
   "language": "python",
   "name": "python3"
  },
  "language_info": {
   "codemirror_mode": {
    "name": "ipython",
    "version": 3
   },
   "file_extension": ".py",
   "mimetype": "text/x-python",
   "name": "python",
   "nbconvert_exporter": "python",
   "pygments_lexer": "ipython3",
   "version": "3.11.5"
  }
 },
 "nbformat": 4,
 "nbformat_minor": 5
}
