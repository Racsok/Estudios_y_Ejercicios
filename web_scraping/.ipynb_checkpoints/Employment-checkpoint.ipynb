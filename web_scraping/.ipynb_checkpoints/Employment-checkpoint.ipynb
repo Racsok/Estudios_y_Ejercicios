{
 "cells": [
  {
   "cell_type": "code",
   "execution_count": 1,
   "id": "e60ea43f-58e3-4f27-a25d-1dce0e600762",
   "metadata": {
    "tags": []
   },
   "outputs": [],
   "source": [
    "import requests\n",
    "from bs4 import BeautifulSoup as bs"
   ]
  },
  {
   "cell_type": "code",
   "execution_count": 2,
   "id": "95e9d38f-8651-4647-bb35-07becee3e9ab",
   "metadata": {
    "tags": []
   },
   "outputs": [],
   "source": [
    "url = \"https://www.elempleo.com/co/ofertas-empleo/bogota?gad_source=1&gbraid=0AAAAADw-9X7ZV-siPFadK03ASRSuqJhWi&gclid=CjwKCAjwn6LABhBSEiwAsNJrjlSYZxKutjpGnPI2FBzZzcwDhC_H_wYspacpFCoksudobdY9OIYBXRoCEckQAvD_BwE\""
   ]
  },
  {
   "cell_type": "code",
   "execution_count": 3,
   "id": "5640b860-3a98-4250-b236-903e3a160958",
   "metadata": {
    "tags": []
   },
   "outputs": [],
   "source": [
    "req = requests.get(url)"
   ]
  },
  {
   "cell_type": "code",
   "execution_count": 5,
   "id": "5cffac5a-8243-4479-a590-eb9fe665b811",
   "metadata": {
    "tags": []
   },
   "outputs": [],
   "source": [
    "soup = bs(req.text)"
   ]
  },
  {
   "cell_type": "code",
   "execution_count": 6,
   "id": "a7b13a65-400d-4660-b2cc-490b8aed5d06",
   "metadata": {
    "tags": []
   },
   "outputs": [],
   "source": [
    "listResult = soup.find_all('div', class_=\"result-item\")"
   ]
  },
  {
   "cell_type": "code",
   "execution_count": 7,
   "id": "89c1d401-9b77-4671-a2f3-c9ed9fd624df",
   "metadata": {},
   "outputs": [
    {
     "ename": "SyntaxError",
     "evalue": "invalid syntax (1482008359.py, line 1)",
     "output_type": "error",
     "traceback": [
      "\u001b[0;36m  Cell \u001b[0;32mIn[7], line 1\u001b[0;36m\u001b[0m\n\u001b[0;31m    save_data[]\u001b[0m\n\u001b[0m              ^\u001b[0m\n\u001b[0;31mSyntaxError\u001b[0m\u001b[0;31m:\u001b[0m invalid syntax\n"
     ]
    }
   ],
   "source": [
    "save_data = []\n",
    "for result in listResult:\n",
    "    urlJob = result.div['class']\n",
    "    print(urlJob)"
   ]
  },
  {
   "cell_type": "code",
   "execution_count": null,
   "id": "32c51014-725f-4cd0-87df-bf1043071afc",
   "metadata": {},
   "outputs": [],
   "source": []
  }
 ],
 "metadata": {
  "kernelspec": {
   "display_name": "Python 3 (ipykernel)",
   "language": "python",
   "name": "python3"
  },
  "language_info": {
   "codemirror_mode": {
    "name": "ipython",
    "version": 3
   },
   "file_extension": ".py",
   "mimetype": "text/x-python",
   "name": "python",
   "nbconvert_exporter": "python",
   "pygments_lexer": "ipython3",
   "version": "3.11.5"
  }
 },
 "nbformat": 4,
 "nbformat_minor": 5
}
